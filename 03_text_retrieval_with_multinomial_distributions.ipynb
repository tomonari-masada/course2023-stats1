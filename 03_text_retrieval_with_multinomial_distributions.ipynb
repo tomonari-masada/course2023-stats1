{
  "nbformat": 4,
  "nbformat_minor": 0,
  "metadata": {
    "colab": {
      "provenance": [],
      "authorship_tag": "ABX9TyPSsXAipGle4fkM/0kov57A",
      "include_colab_link": true
    },
    "kernelspec": {
      "name": "python3",
      "display_name": "Python 3"
    },
    "language_info": {
      "name": "python"
    }
  },
  "cells": [
    {
      "cell_type": "markdown",
      "metadata": {
        "id": "view-in-github",
        "colab_type": "text"
      },
      "source": [
        "<a href=\"https://colab.research.google.com/github/tomonari-masada/course2023-stats1/blob/main/03_text_retrieval_with_multinomial_distributions.ipynb\" target=\"_parent\"><img src=\"https://colab.research.google.com/assets/colab-badge.svg\" alt=\"Open In Colab\"/></a>"
      ]
    },
    {
      "cell_type": "markdown",
      "source": [
        "# 多項分布を使ったテキスト検索"
      ],
      "metadata": {
        "id": "ECnVmMCn7SqT"
      }
    },
    {
      "cell_type": "markdown",
      "source": [
        "## 説明\n",
        "* 検索対象の各テキストについて最尤推定で単語確率を求める。\n",
        "* クエリの尤度を、各テキストについて求めた単語確率を使って計算する。\n",
        "* このように計算されたクエリの尤度によって、検索対象のテキストをソートする。\n",
        "* 上記の方法では検索があまりうまくいかないことを確認する。"
      ],
      "metadata": {
        "id": "X-iu1PGr7U9d"
      }
    },
    {
      "cell_type": "markdown",
      "source": [
        "## 準備"
      ],
      "metadata": {
        "id": "VrgoYRSB8LW6"
      }
    },
    {
      "cell_type": "code",
      "execution_count": null,
      "metadata": {
        "id": "CWa9p9ODzp6V"
      },
      "outputs": [],
      "source": [
        "import numpy as np\n",
        "import matplotlib.pyplot as plt\n",
        "from scipy.stats import multinomial\n",
        "from sklearn.datasets import fetch_20newsgroups\n",
        "from sklearn.feature_extraction.text import CountVectorizer"
      ]
    },
    {
      "cell_type": "markdown",
      "source": [
        "## データセット"
      ],
      "metadata": {
        "id": "bJrqfKPu8Maq"
      }
    },
    {
      "cell_type": "code",
      "source": [
        "train_corpus, _ = fetch_20newsgroups(subset=\"train\", return_X_y=True)\n",
        "test_corpus, _ = fetch_20newsgroups(subset=\"test\", return_X_y=True)"
      ],
      "metadata": {
        "id": "-YJG99fWzv6D"
      },
      "execution_count": null,
      "outputs": []
    },
    {
      "cell_type": "code",
      "source": [
        "train_corpus[0]"
      ],
      "metadata": {
        "id": "MiKkmczP0SKH"
      },
      "execution_count": null,
      "outputs": []
    },
    {
      "cell_type": "code",
      "source": [
        "len(train_corpus), len(test_corpus)"
      ],
      "metadata": {
        "id": "UymRQ0zh0i_i"
      },
      "execution_count": null,
      "outputs": []
    },
    {
      "cell_type": "code",
      "source": [
        "vectorizer = CountVectorizer(min_df=50, max_df=0.1, stop_words=\"english\")\n",
        "X_train = vectorizer.fit_transform(train_corpus).toarray()\n",
        "X_test = vectorizer.transform(test_corpus).toarray()"
      ],
      "metadata": {
        "id": "bb8huq5W0YDu"
      },
      "execution_count": null,
      "outputs": []
    },
    {
      "cell_type": "code",
      "source": [
        "X_train.shape, X_test.shape"
      ],
      "metadata": {
        "id": "R8jAYHgt09GE"
      },
      "execution_count": null,
      "outputs": []
    },
    {
      "cell_type": "code",
      "source": [
        "vocabulary = vectorizer.get_feature_names_out()\n",
        "print(vocabulary)"
      ],
      "metadata": {
        "id": "HDDmLD5m1SSC"
      },
      "execution_count": null,
      "outputs": []
    },
    {
      "cell_type": "markdown",
      "source": [
        "## 最尤推定"
      ],
      "metadata": {
        "id": "0yMv87g68JwD"
      }
    },
    {
      "cell_type": "code",
      "source": [
        "X_train_probs = X_train / X_train.sum(axis=1).reshape(-1, 1)"
      ],
      "metadata": {
        "id": "l8QqtXEj1hRR"
      },
      "execution_count": null,
      "outputs": []
    },
    {
      "cell_type": "code",
      "source": [
        "X_train_probs.sum(axis=1)"
      ],
      "metadata": {
        "id": "xRd3TeER1zz4"
      },
      "execution_count": null,
      "outputs": []
    },
    {
      "cell_type": "markdown",
      "source": [
        "## 検索"
      ],
      "metadata": {
        "id": "thSRYgWd8Erg"
      }
    },
    {
      "cell_type": "code",
      "source": [
        "def log_likelihood(x_test, x_train_prob):\n",
        "  x_test_nonzero = x_test * (x_train_prob > 0)\n",
        "  rv = multinomial(x_test_nonzero.sum(), x_train_prob)\n",
        "  return rv.logpmf(x_test_nonzero)"
      ],
      "metadata": {
        "id": "mrTNOUMu17fW"
      },
      "execution_count": null,
      "outputs": []
    },
    {
      "cell_type": "code",
      "source": [
        "print(test_corpus[0])"
      ],
      "metadata": {
        "id": "lPiD0BRE4xrm"
      },
      "execution_count": null,
      "outputs": []
    },
    {
      "cell_type": "code",
      "source": [
        "log_likelihood(X_test[0], X_train_probs[0])"
      ],
      "metadata": {
        "id": "jU1b5YFh6G0s"
      },
      "execution_count": null,
      "outputs": []
    },
    {
      "cell_type": "code",
      "source": [
        "log_likelihood(X_test[0], X_train_probs[11313])"
      ],
      "metadata": {
        "id": "ZU4vlswv2-mh"
      },
      "execution_count": null,
      "outputs": []
    },
    {
      "cell_type": "code",
      "source": [
        "score = list()\n",
        "for i in range(X_train.shape[0]):\n",
        "  score.append(log_likelihood(X_test[0], X_train_probs[i]))\n",
        "score = np.array(score)\n",
        "score = np.where(score == 0.0, - np.inf, score)\n",
        "sorted_train_indices = (- score).argsort()"
      ],
      "metadata": {
        "id": "dqyjvAz93jA3"
      },
      "execution_count": null,
      "outputs": []
    },
    {
      "cell_type": "code",
      "source": [
        "sorted_train_indices[0]"
      ],
      "metadata": {
        "id": "k4jL37nb4pYE"
      },
      "execution_count": null,
      "outputs": []
    },
    {
      "cell_type": "code",
      "source": [
        "print(train_corpus[sorted_train_indices[0]])"
      ],
      "metadata": {
        "id": "PEJftd024svS"
      },
      "execution_count": null,
      "outputs": []
    },
    {
      "cell_type": "code",
      "source": [
        "vocabulary[(X_test[0] * (X_train_probs[sorted_train_indices[0]] > 0)) > 0]"
      ],
      "metadata": {
        "id": "x8OI7iXw421B"
      },
      "execution_count": null,
      "outputs": []
    },
    {
      "cell_type": "code",
      "source": [],
      "metadata": {
        "id": "1xKe491o5eje"
      },
      "execution_count": null,
      "outputs": []
    }
  ]
}