{
  "nbformat": 4,
  "nbformat_minor": 0,
  "metadata": {
    "colab": {
      "provenance": [],
      "authorship_tag": "ABX9TyNj3ojIVVfBVuUzK7TALRgw",
      "include_colab_link": true
    },
    "kernelspec": {
      "name": "python3",
      "display_name": "Python 3"
    },
    "language_info": {
      "name": "python"
    }
  },
  "cells": [
    {
      "cell_type": "markdown",
      "metadata": {
        "id": "view-in-github",
        "colab_type": "text"
      },
      "source": [
        "<a href=\"https://colab.research.google.com/github/tomonari-masada/course2023-stats1/blob/main/1d_gaussian_clustering.ipynb\" target=\"_parent\"><img src=\"https://colab.research.google.com/assets/colab-badge.svg\" alt=\"Open In Colab\"/></a>"
      ]
    },
    {
      "cell_type": "markdown",
      "source": [
        "# 混合正規分布を使った1次元データのクラスタリング"
      ],
      "metadata": {
        "id": "Dy9IRpzdmJNf"
      }
    },
    {
      "cell_type": "markdown",
      "source": [
        "## 人工データの設定\n"
      ],
      "metadata": {
        "id": "Sz6M3ezImRxh"
      }
    },
    {
      "cell_type": "code",
      "source": [
        "n_samples = 1000\n",
        "n_clusters = 2"
      ],
      "metadata": {
        "id": "5f3hh5n9iRyf"
      },
      "execution_count": null,
      "outputs": []
    },
    {
      "cell_type": "markdown",
      "source": [
        "## 設定に基づいた人工データの生成"
      ],
      "metadata": {
        "id": "ImWjsGiSmUwe"
      }
    },
    {
      "cell_type": "code",
      "execution_count": null,
      "metadata": {
        "id": "J0v6wqyAgwQz"
      },
      "outputs": [],
      "source": [
        "from sklearn.datasets import make_blobs\n",
        "\n",
        "X, y = make_blobs(\n",
        "    n_samples=n_samples,\n",
        "    centers=n_clusters,\n",
        "    n_features=1,\n",
        "    cluster_std=0.5, # 問題を解きやすくするため。\n",
        "    random_state=0)"
      ]
    },
    {
      "cell_type": "code",
      "source": [
        "X"
      ],
      "metadata": {
        "id": "L4DeAQaLhwBx"
      },
      "execution_count": null,
      "outputs": []
    },
    {
      "cell_type": "code",
      "source": [
        "y"
      ],
      "metadata": {
        "id": "I5pcGm8Ih1mG"
      },
      "execution_count": null,
      "outputs": []
    },
    {
      "cell_type": "markdown",
      "source": [
        "## 人工データの可視化"
      ],
      "metadata": {
        "id": "SHOSE6CtmaQn"
      }
    },
    {
      "cell_type": "code",
      "source": [
        "import matplotlib.pyplot as plt\n",
        "\n",
        "plt.hist(X.reshape(-1), bins=50, lw=0);"
      ],
      "metadata": {
        "id": "QjeEXuPog3cE"
      },
      "execution_count": null,
      "outputs": []
    },
    {
      "cell_type": "markdown",
      "source": [
        "## responsibilityの初期化"
      ],
      "metadata": {
        "id": "FNem4HiGmb1K"
      }
    },
    {
      "cell_type": "code",
      "source": [
        "import numpy as np\n",
        "from scipy.special import softmax\n",
        "\n",
        "q = softmax(np.random.randn(X.shape[0], n_clusters), axis=-1)"
      ],
      "metadata": {
        "id": "2T7XLKHThE4R"
      },
      "execution_count": null,
      "outputs": []
    },
    {
      "cell_type": "code",
      "source": [
        "q"
      ],
      "metadata": {
        "id": "cfvVGXfDip4P"
      },
      "execution_count": null,
      "outputs": []
    },
    {
      "cell_type": "markdown",
      "source": [
        "## Mステップ"
      ],
      "metadata": {
        "id": "izYvLJrnmeoo"
      }
    },
    {
      "cell_type": "markdown",
      "source": [
        "* 授業資料の$\\mu_k, \\sigma_k^2, \\theta_k$の更新式をそのまま実装している。"
      ],
      "metadata": {
        "id": "3uHmMO1-mpuN"
      }
    },
    {
      "cell_type": "code",
      "source": [
        "def M_step(X, q):\n",
        "  mu = (q * X).sum(0) / q.sum(0)\n",
        "  sigma_squared = (q * (X - mu) ** 2).sum(0) / q.sum(0)\n",
        "  theta = q.sum(0) / q.shape[0]\n",
        "  return mu, sigma_squared, theta"
      ],
      "metadata": {
        "id": "RSCvi06aiqbV"
      },
      "execution_count": null,
      "outputs": []
    },
    {
      "cell_type": "code",
      "source": [
        "mu, sigma_squared, theta = M_step(X, q)"
      ],
      "metadata": {
        "id": "fJwtZQVNjUK6"
      },
      "execution_count": null,
      "outputs": []
    },
    {
      "cell_type": "code",
      "source": [
        "mu"
      ],
      "metadata": {
        "id": "hSGZJEVSkjqD"
      },
      "execution_count": null,
      "outputs": []
    },
    {
      "cell_type": "code",
      "source": [
        "np.sqrt(sigma_squared)"
      ],
      "metadata": {
        "id": "ES4eDT_hkkpF"
      },
      "execution_count": null,
      "outputs": []
    },
    {
      "cell_type": "code",
      "source": [
        "theta"
      ],
      "metadata": {
        "id": "K_tw7qXpkp2Q"
      },
      "execution_count": null,
      "outputs": []
    },
    {
      "cell_type": "markdown",
      "source": [
        "## Eステップ"
      ],
      "metadata": {
        "id": "zkTVVTB9mgPi"
      }
    },
    {
      "cell_type": "markdown",
      "source": [
        "* 授業資料の$q_{i,k}$の更新式をそのまま実装している。"
      ],
      "metadata": {
        "id": "jF_27rJAmttx"
      }
    },
    {
      "cell_type": "code",
      "source": [
        "def E_step(mu, sigma_squared, theta):\n",
        "  conditional_likelihood = (\n",
        "      np.exp(- (X - mu) ** 2 / (2 * sigma_squared))\n",
        "      / np.sqrt(2 * np.pi * sigma_squared)\n",
        "  )\n",
        "  q = theta * conditional_likelihood\n",
        "  return q / q.sum(-1, keepdims=True)"
      ],
      "metadata": {
        "id": "L01JdFU0jYX5"
      },
      "execution_count": null,
      "outputs": []
    },
    {
      "cell_type": "code",
      "source": [
        "q = E_step(mu, sigma_squared, theta)"
      ],
      "metadata": {
        "id": "RxoaR7KsjdeA"
      },
      "execution_count": null,
      "outputs": []
    },
    {
      "cell_type": "code",
      "source": [
        "q"
      ],
      "metadata": {
        "id": "pZuQvpewlB-X"
      },
      "execution_count": null,
      "outputs": []
    },
    {
      "cell_type": "markdown",
      "source": [
        "## EMアルゴリズムの実行"
      ],
      "metadata": {
        "id": "CzEhBp1AmhsR"
      }
    },
    {
      "cell_type": "code",
      "source": [
        "for _ in range(10000):\n",
        "  mu, sigma_squared, theta = M_step(X, q)\n",
        "  q = E_step(mu, sigma_squared, theta)"
      ],
      "metadata": {
        "id": "Nw6J3cpElc1U"
      },
      "execution_count": null,
      "outputs": []
    },
    {
      "cell_type": "code",
      "source": [
        "q"
      ],
      "metadata": {
        "id": "f_qwd2cDli2E"
      },
      "execution_count": null,
      "outputs": []
    },
    {
      "cell_type": "markdown",
      "source": [
        "## クラスタリングの評価"
      ],
      "metadata": {
        "id": "l-jIRjQfmkCE"
      }
    },
    {
      "cell_type": "code",
      "source": [
        "(q.argmax(-1) == y).sum()"
      ],
      "metadata": {
        "id": "oufSMZrnljZT"
      },
      "execution_count": null,
      "outputs": []
    },
    {
      "cell_type": "code",
      "source": [],
      "metadata": {
        "id": "MyM2UOArl_d-"
      },
      "execution_count": null,
      "outputs": []
    }
  ]
}