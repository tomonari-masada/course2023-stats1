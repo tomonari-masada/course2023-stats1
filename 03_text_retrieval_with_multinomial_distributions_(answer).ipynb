{
  "nbformat": 4,
  "nbformat_minor": 0,
  "metadata": {
    "colab": {
      "provenance": [],
      "gpuType": "T4",
      "authorship_tag": "ABX9TyOYUtr5Y/I6iZfswoOMEcZq",
      "include_colab_link": true
    },
    "kernelspec": {
      "name": "python3",
      "display_name": "Python 3"
    },
    "language_info": {
      "name": "python"
    },
    "accelerator": "GPU"
  },
  "cells": [
    {
      "cell_type": "markdown",
      "metadata": {
        "id": "view-in-github",
        "colab_type": "text"
      },
      "source": [
        "<a href=\"https://colab.research.google.com/github/tomonari-masada/course2023-stats1/blob/main/03_text_retrieval_with_multinomial_distributions_(answer).ipynb\" target=\"_parent\"><img src=\"https://colab.research.google.com/assets/colab-badge.svg\" alt=\"Open In Colab\"/></a>"
      ]
    },
    {
      "cell_type": "markdown",
      "source": [
        "# 課題20231017の答案例"
      ],
      "metadata": {
        "id": "ECnVmMCn7SqT"
      }
    },
    {
      "cell_type": "markdown",
      "source": [
        "## 対数尤度を求めるヘルパ関数における工夫"
      ],
      "metadata": {
        "id": "thSRYgWd8Erg"
      }
    },
    {
      "cell_type": "markdown",
      "source": [
        "* 計算の高速化をしてみる。\n",
        "  * 確率はスムージングをしてある。\n",
        "  * だから、**推定された単語確率はゼロには絶対にならない**。\n",
        "  * これを前提として、クエリの尤度の計算を高速化することを試みる。"
      ],
      "metadata": {
        "id": "SpQ4d_HRmtmB"
      }
    },
    {
      "cell_type": "markdown",
      "source": [
        "以下は、授業で使ったnotebookからの抜粋。\n",
        "\n",
        "---\n",
        "* クエリの尤度を、各文書について求めた単語確率を使って計算する。\n",
        "  * $n_{q,w}$: クエリ$q$における単語$w$の出現頻度\n",
        "  * このとき、文書$d$の単語確率を使ったクエリ$q$の対数尤度は、以下の通り。\n",
        "$$\\begin{align}\n",
        "L_q(d) = \\sum_w n_{q,w} \\log \\phi_{d,w}\n",
        "\\end{align}$$\n",
        "  * 上の式で、規格化定数の部分は省略している。（ランキングに関係しないため。）\n",
        "* このように計算されたクエリの尤度によって、検索対象の文書をソートする。\n",
        "  * $L_q(d)$が大きい順に、文書を検索結果として表示する。\n",
        "---\n",
        "\n",
        "* 上の説明にある$L_q(d)$の式の計算を、高速化する。\n",
        "* 今回は、GPUも使って、高速化する。"
      ],
      "metadata": {
        "id": "NAAjHXMVo2lO"
      }
    },
    {
      "cell_type": "markdown",
      "source": [
        "**ランタイムのタイプをGPUにしておく**"
      ],
      "metadata": {
        "id": "YnIQekV2p3bU"
      }
    },
    {
      "cell_type": "markdown",
      "source": [
        "## 準備"
      ],
      "metadata": {
        "id": "VrgoYRSB8LW6"
      }
    },
    {
      "cell_type": "code",
      "source": [
        "import numpy as np\n",
        "from sklearn.datasets import fetch_20newsgroups\n",
        "from sklearn.feature_extraction.text import CountVectorizer"
      ],
      "metadata": {
        "id": "Gk0bNQ9Mp_vx"
      },
      "execution_count": 10,
      "outputs": []
    },
    {
      "cell_type": "markdown",
      "source": [
        "## データセット"
      ],
      "metadata": {
        "id": "bJrqfKPu8Maq"
      }
    },
    {
      "cell_type": "code",
      "source": [
        "train_corpus, train_labels = fetch_20newsgroups(subset=\"train\", return_X_y=True)\n",
        "test_corpus, test_labels = fetch_20newsgroups(subset=\"test\", return_X_y=True)\n",
        "print(f\"training size: {len(train_corpus)}\\ntest size: {len(test_corpus)}\")"
      ],
      "metadata": {
        "colab": {
          "base_uri": "https://localhost:8080/"
        },
        "id": "NzCwCI7IqB9v",
        "outputId": "96dc56c8-60c9-4aa5-ef37-c950444d0130"
      },
      "execution_count": 11,
      "outputs": [
        {
          "output_type": "stream",
          "name": "stdout",
          "text": [
            "training size: 11314\n",
            "test size: 7532\n"
          ]
        }
      ]
    },
    {
      "cell_type": "markdown",
      "source": [
        "## 単語の出現回数を数える"
      ],
      "metadata": {
        "id": "ZJae3CD4rNX0"
      }
    },
    {
      "cell_type": "code",
      "source": [
        "vectorizer = CountVectorizer(min_df=10, stop_words=\"english\")\n",
        "X_train = vectorizer.fit_transform(train_corpus).toarray()\n",
        "X_test = vectorizer.transform(test_corpus).toarray()\n",
        "vocabulary = vectorizer.get_feature_names_out()\n",
        "print(f\"vocabulary size: {len(vocabulary)}\")"
      ],
      "metadata": {
        "colab": {
          "base_uri": "https://localhost:8080/"
        },
        "id": "pvdC3n8zqFuJ",
        "outputId": "4a5e3b9e-8cbc-4991-c117-b35ad376ccee"
      },
      "execution_count": 12,
      "outputs": [
        {
          "output_type": "stream",
          "name": "stdout",
          "text": [
            "vocabulary size: 15291\n"
          ]
        }
      ]
    },
    {
      "cell_type": "markdown",
      "source": [
        "## スムージング付きで単語の確率を計算する"
      ],
      "metadata": {
        "id": "AxV7fi2To5Px"
      }
    },
    {
      "cell_type": "code",
      "source": [
        "# ディリクレ事前分布のパラメータ\n",
        "beta = 0.01\n",
        "\n",
        "X_train = X_train + beta\n",
        "X_train_probs = X_train / X_train.sum(axis=1).reshape(-1, 1)"
      ],
      "metadata": {
        "id": "1xKe491o5eje"
      },
      "execution_count": 13,
      "outputs": []
    },
    {
      "cell_type": "markdown",
      "source": [
        "## クエリの対数尤度を計算するヘルパ関数\n",
        "* PyTorchを使って、GPU上で計算する。"
      ],
      "metadata": {
        "id": "-bxaiIDqq-zf"
      }
    },
    {
      "cell_type": "code",
      "source": [
        "import torch\n",
        "\n",
        "def log_likelihood(x_test, x_train_prob):\n",
        "  return torch.matmul(\n",
        "      torch.tensor(x_test, dtype=torch.float32, device=\"cuda\"),\n",
        "      torch.log(torch.tensor(x_train_prob, dtype=torch.float32, device=\"cuda\")).t()\n",
        "  ).cpu().numpy()"
      ],
      "metadata": {
        "id": "mrTNOUMu17fW"
      },
      "execution_count": 14,
      "outputs": []
    },
    {
      "cell_type": "markdown",
      "source": [
        "## 検索の実行"
      ],
      "metadata": {
        "id": "CXa-pxljtZMX"
      }
    },
    {
      "cell_type": "markdown",
      "source": [
        "* 全てのtest文書について、その尤度を最大にするtraining文書を求める。"
      ],
      "metadata": {
        "id": "93qv9D1-t-Rs"
      }
    },
    {
      "cell_type": "code",
      "source": [
        "scores = log_likelihood(X_test, X_train_probs)"
      ],
      "metadata": {
        "id": "P-8knQc0qzRS"
      },
      "execution_count": 15,
      "outputs": []
    },
    {
      "cell_type": "code",
      "source": [
        "sorted_train_indices = (- scores).argsort(-1)"
      ],
      "metadata": {
        "id": "orGJTgOSpXrI"
      },
      "execution_count": 16,
      "outputs": []
    },
    {
      "cell_type": "code",
      "source": [
        "top_ranked_train_docs = sorted_train_indices[:,0].reshape(-1)\n",
        "print(top_ranked_train_docs)"
      ],
      "metadata": {
        "id": "05cXC360pf7n",
        "colab": {
          "base_uri": "https://localhost:8080/"
        },
        "outputId": "bfd87b68-667f-42a5-a96a-0efb96dcd081"
      },
      "execution_count": 17,
      "outputs": [
        {
          "output_type": "stream",
          "name": "stdout",
          "text": [
            "[9048 4114 7539 ... 2018 2965 7340]\n"
          ]
        }
      ]
    },
    {
      "cell_type": "markdown",
      "source": [
        "* P@1はprecision at oneの略。\n",
        "  * https://en.wikipedia.org/wiki/Evaluation_measures_(information_retrieval)#Precision_at_k"
      ],
      "metadata": {
        "id": "EFsEN7nNtAhB"
      }
    },
    {
      "cell_type": "code",
      "source": [
        "print(f\"P@1={(test_labels == train_labels[top_ranked_train_docs]).sum()/len(test_labels):.3f}\")"
      ],
      "metadata": {
        "id": "veu4K7svpngo",
        "colab": {
          "base_uri": "https://localhost:8080/"
        },
        "outputId": "c301cb52-6173-4d29-fe33-c1c49b1c989a"
      },
      "execution_count": 18,
      "outputs": [
        {
          "output_type": "stream",
          "name": "stdout",
          "text": [
            "P@1=0.703\n"
          ]
        }
      ]
    },
    {
      "cell_type": "code",
      "source": [],
      "metadata": {
        "id": "IBLg4orSs9vE"
      },
      "execution_count": 18,
      "outputs": []
    }
  ]
}