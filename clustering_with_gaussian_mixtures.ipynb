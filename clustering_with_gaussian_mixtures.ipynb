{
  "nbformat": 4,
  "nbformat_minor": 0,
  "metadata": {
    "colab": {
      "provenance": [],
      "authorship_tag": "ABX9TyNLDzELyl1ByYNHGB5ANMB4",
      "include_colab_link": true
    },
    "kernelspec": {
      "name": "python3",
      "display_name": "Python 3"
    },
    "language_info": {
      "name": "python"
    }
  },
  "cells": [
    {
      "cell_type": "markdown",
      "metadata": {
        "id": "view-in-github",
        "colab_type": "text"
      },
      "source": [
        "<a href=\"https://colab.research.google.com/github/tomonari-masada/course2023-stats1/blob/main/clustering_with_gaussian_mixtures.ipynb\" target=\"_parent\"><img src=\"https://colab.research.google.com/assets/colab-badge.svg\" alt=\"Open In Colab\"/></a>"
      ]
    },
    {
      "cell_type": "markdown",
      "source": [
        "# 混合正規分布を使ったクラスタリング"
      ],
      "metadata": {
        "id": "Dy9IRpzdmJNf"
      }
    },
    {
      "cell_type": "code",
      "source": [
        "import numpy as np\n",
        "from scipy.special import softmax\n",
        "import matplotlib.pyplot as plt\n",
        "from sklearn.datasets import make_blobs"
      ],
      "metadata": {
        "id": "cLieeb1E-odZ"
      },
      "execution_count": null,
      "outputs": []
    },
    {
      "cell_type": "markdown",
      "source": [
        "## 単変量正規分布の場合"
      ],
      "metadata": {
        "id": "tvez9BvMDwLV"
      }
    },
    {
      "cell_type": "markdown",
      "source": [
        "### 人工データの生成"
      ],
      "metadata": {
        "id": "ImWjsGiSmUwe"
      }
    },
    {
      "cell_type": "code",
      "execution_count": null,
      "metadata": {
        "id": "J0v6wqyAgwQz"
      },
      "outputs": [],
      "source": [
        "n_samples = 1000\n",
        "n_clusters = 2\n",
        "n_features = 1\n",
        "cluster_std = 0.3 # 問題を解きやすくするため。\n",
        "\n",
        "X, y = make_blobs(\n",
        "    n_samples=n_samples,\n",
        "    centers=n_clusters,\n",
        "    n_features=n_features,\n",
        "    cluster_std=cluster_std,\n",
        "    random_state=0)"
      ]
    },
    {
      "cell_type": "code",
      "source": [
        "X[:10]"
      ],
      "metadata": {
        "id": "L4DeAQaLhwBx"
      },
      "execution_count": null,
      "outputs": []
    },
    {
      "cell_type": "code",
      "source": [
        "y[:10]"
      ],
      "metadata": {
        "id": "I5pcGm8Ih1mG"
      },
      "execution_count": null,
      "outputs": []
    },
    {
      "cell_type": "code",
      "source": [
        "plt.hist(X[y == 0].reshape(-1), bins=50, lw=0, alpha=0.5)\n",
        "plt.hist(X[y == 1].reshape(-1), bins=50, lw=0, alpha=0.5);"
      ],
      "metadata": {
        "id": "QjeEXuPog3cE"
      },
      "execution_count": null,
      "outputs": []
    },
    {
      "cell_type": "markdown",
      "source": [
        "### responsibilityの初期化"
      ],
      "metadata": {
        "id": "FNem4HiGmb1K"
      }
    },
    {
      "cell_type": "code",
      "source": [
        "q = softmax(np.random.randn(n_samples, n_clusters), axis=-1)"
      ],
      "metadata": {
        "id": "2T7XLKHThE4R"
      },
      "execution_count": null,
      "outputs": []
    },
    {
      "cell_type": "code",
      "source": [
        "q"
      ],
      "metadata": {
        "id": "cfvVGXfDip4P"
      },
      "execution_count": null,
      "outputs": []
    },
    {
      "cell_type": "markdown",
      "source": [
        "### Mステップ"
      ],
      "metadata": {
        "id": "izYvLJrnmeoo"
      }
    },
    {
      "cell_type": "markdown",
      "source": [
        "* 授業資料の$\\mu_k, \\sigma_k^2, \\theta_k$の更新式をそのまま実装している。"
      ],
      "metadata": {
        "id": "3uHmMO1-mpuN"
      }
    },
    {
      "cell_type": "code",
      "source": [
        "def M_step(X, q):\n",
        "  mu = (q * X).sum(0) / q.sum(0)\n",
        "  var = (q * (X - mu) ** 2).sum(0) / q.sum(0)\n",
        "  theta = q.sum(0) / q.shape[0]\n",
        "  return mu, var, theta"
      ],
      "metadata": {
        "id": "RSCvi06aiqbV"
      },
      "execution_count": null,
      "outputs": []
    },
    {
      "cell_type": "markdown",
      "source": [
        "### Eステップ"
      ],
      "metadata": {
        "id": "zkTVVTB9mgPi"
      }
    },
    {
      "cell_type": "markdown",
      "source": [
        "* クラスタごとの条件付き対数尤度の計算式"
      ],
      "metadata": {
        "id": "he1YBFqKD5rU"
      }
    },
    {
      "cell_type": "code",
      "source": [
        "def log_conditional_likelihood(X, mu, var):\n",
        "  return - 0.5 * np.log(2 * np.pi * var) - (X - mu) ** 2 / (2 * var)"
      ],
      "metadata": {
        "id": "4NiFXSIt67RH"
      },
      "execution_count": null,
      "outputs": []
    },
    {
      "cell_type": "markdown",
      "source": [
        "* 授業資料の$q_{i,k}$の更新式をそのまま実装している。"
      ],
      "metadata": {
        "id": "jF_27rJAmttx"
      }
    },
    {
      "cell_type": "code",
      "source": [
        "def E_step(X, mu, var, theta):\n",
        "  q_logit = np.log(theta) + log_conditional_likelihood(X, mu, var)\n",
        "  return softmax(q_logit, axis=-1)"
      ],
      "metadata": {
        "id": "L01JdFU0jYX5"
      },
      "execution_count": null,
      "outputs": []
    },
    {
      "cell_type": "markdown",
      "source": [
        "### EMアルゴリズムの実行"
      ],
      "metadata": {
        "id": "CzEhBp1AmhsR"
      }
    },
    {
      "cell_type": "code",
      "source": [
        "for _ in range(10000):\n",
        "  mu, var, theta = M_step(X, q)\n",
        "  q = E_step(X, mu, var, theta)"
      ],
      "metadata": {
        "id": "Nw6J3cpElc1U"
      },
      "execution_count": null,
      "outputs": []
    },
    {
      "cell_type": "code",
      "source": [
        "q"
      ],
      "metadata": {
        "id": "f_qwd2cDli2E"
      },
      "execution_count": null,
      "outputs": []
    },
    {
      "cell_type": "code",
      "source": [
        "theta"
      ],
      "metadata": {
        "id": "9FMak-9m9HUi"
      },
      "execution_count": null,
      "outputs": []
    },
    {
      "cell_type": "markdown",
      "source": [
        "### クラスタリングの評価"
      ],
      "metadata": {
        "id": "l-jIRjQfmkCE"
      }
    },
    {
      "cell_type": "code",
      "source": [
        "(q.argmax(-1) == y).sum()"
      ],
      "metadata": {
        "id": "oufSMZrnljZT"
      },
      "execution_count": null,
      "outputs": []
    },
    {
      "cell_type": "markdown",
      "source": [
        "## 多変量正規分布の場合\n",
        "* ただし、分散共分散行列は対角成分のみ非ゼロとする。"
      ],
      "metadata": {
        "id": "c1MExdiVECCF"
      }
    },
    {
      "cell_type": "markdown",
      "source": [
        "### 人工データの生成"
      ],
      "metadata": {
        "id": "bYx3UYQSFfSY"
      }
    },
    {
      "cell_type": "code",
      "source": [
        "n_samples = 1000\n",
        "n_clusters = 2\n",
        "n_features = 3\n",
        "cluster_std = 0.5 # 問題を解きやすくするため。\n",
        "\n",
        "X, y = make_blobs(\n",
        "    n_samples=n_samples,\n",
        "    centers=n_clusters,\n",
        "    n_features=n_features,\n",
        "    cluster_std=cluster_std,\n",
        "    random_state=0)"
      ],
      "metadata": {
        "id": "MyM2UOArl_d-"
      },
      "execution_count": null,
      "outputs": []
    },
    {
      "cell_type": "code",
      "source": [
        "X[:10]"
      ],
      "metadata": {
        "id": "FXRf2epywIVu"
      },
      "execution_count": null,
      "outputs": []
    },
    {
      "cell_type": "code",
      "source": [
        "y[:10]"
      ],
      "metadata": {
        "id": "KUgcEn24_Fzi"
      },
      "execution_count": null,
      "outputs": []
    },
    {
      "cell_type": "code",
      "source": [
        "fig = plt.figure()\n",
        "ax = fig.add_subplot(projection='3d')\n",
        "markers = [\"x\", \"+\"]\n",
        "\n",
        "prediction = q.argmax(-1)\n",
        "for k in range(n_clusters):\n",
        "  flag = y == k\n",
        "  ax.scatter(X[flag,0], X[flag,1], X[flag,2], alpha=0.1)"
      ],
      "metadata": {
        "id": "JTYnjlbrFJLJ"
      },
      "execution_count": null,
      "outputs": []
    },
    {
      "cell_type": "markdown",
      "source": [
        "### responsibilityの初期化"
      ],
      "metadata": {
        "id": "1aFfueedFVJg"
      }
    },
    {
      "cell_type": "code",
      "source": [
        "q = softmax(np.random.randn(n_samples , n_clusters), axis=-1)"
      ],
      "metadata": {
        "id": "YdvnF8niwft0"
      },
      "execution_count": null,
      "outputs": []
    },
    {
      "cell_type": "markdown",
      "source": [
        "### Eステップ"
      ],
      "metadata": {
        "id": "lxlqu0A-FZ9Y"
      }
    },
    {
      "cell_type": "code",
      "source": [
        "def E_step_multi(X, mu, var, theta):\n",
        "  q_logit = np.log(theta)\n",
        "  for d in range(X.shape[-1]):\n",
        "    q_logit = q_logit + log_conditional_likelihood(X[:,d].reshape(-1,1), mu[:,d], var[:,d])\n",
        "  return softmax(q_logit, axis=-1)"
      ],
      "metadata": {
        "id": "4dgs0dag_MGv"
      },
      "execution_count": null,
      "outputs": []
    },
    {
      "cell_type": "markdown",
      "source": [
        "### EMアルゴリズムの実行"
      ],
      "metadata": {
        "id": "xX1ZWCa3FZAs"
      }
    },
    {
      "cell_type": "code",
      "source": [
        "mu = np.zeros((n_clusters, n_features))\n",
        "var = np.zeros((n_clusters, n_features))\n",
        "\n",
        "for _ in range(1000):\n",
        "  for d in range(n_features):\n",
        "    mu[:,d], var[:,d], theta = M_step(X[:,d].reshape(-1,1), q)\n",
        "  q = E_step_multi(X, mu, var, theta)"
      ],
      "metadata": {
        "id": "ImCzeFKqw_hK"
      },
      "execution_count": null,
      "outputs": []
    },
    {
      "cell_type": "code",
      "source": [
        "(q.argmax(-1) == y).sum()"
      ],
      "metadata": {
        "id": "OYkGddeyxBDy"
      },
      "execution_count": null,
      "outputs": []
    },
    {
      "cell_type": "code",
      "source": [
        "q"
      ],
      "metadata": {
        "id": "-FA-zcfKEZ2_"
      },
      "execution_count": null,
      "outputs": []
    },
    {
      "cell_type": "code",
      "source": [
        "mu"
      ],
      "metadata": {
        "id": "xda6pmNrxDza"
      },
      "execution_count": null,
      "outputs": []
    },
    {
      "cell_type": "code",
      "source": [
        "var"
      ],
      "metadata": {
        "id": "aZ6QAwm4xM7R"
      },
      "execution_count": null,
      "outputs": []
    },
    {
      "cell_type": "code",
      "source": [
        "fig = plt.figure()\n",
        "ax = fig.add_subplot(projection='3d')\n",
        "markers = [\"x\", \"+\"]\n",
        "\n",
        "prediction = q.argmax(-1)\n",
        "for k in range(n_clusters):\n",
        "  flag = prediction == k\n",
        "  ax.scatter(X[flag,0], X[flag,1], X[flag,2], alpha=0.1)\n",
        "  ax.scatter(mu[k,0], mu[k,1], mu[k,2], color=\"black\", marker=markers[k], s=300);"
      ],
      "metadata": {
        "id": "iZ_-dEImBUvr"
      },
      "execution_count": null,
      "outputs": []
    },
    {
      "cell_type": "code",
      "source": [],
      "metadata": {
        "id": "jKJ3X49hCG7X"
      },
      "execution_count": null,
      "outputs": []
    }
  ]
}